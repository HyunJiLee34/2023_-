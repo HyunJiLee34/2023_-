{
 "cells": [
  {
   "cell_type": "markdown",
   "id": "05f2ade1-0fca-4f6d-9a5d-0e3df09a85d3",
   "metadata": {},
   "source": [
    "# Install & Import packages"
   ]
  },
  {
   "cell_type": "code",
   "execution_count": null,
   "id": "640a07a8-efe5-416e-961f-a01f89359784",
   "metadata": {},
   "outputs": [],
   "source": [
    "import pandas as pd\n",
    "from glob import glob\n",
    "import os\n",
    "import numpy as np\n",
    "import plotly.offline as pyo\n",
    "import matplotlib.pyplot as plt\n",
    "import plotly.express as px\n",
    "import plotly.graph_objects as go\n",
    "\n",
    "from datetime import datetime\n",
    "from datetime import date"
   ]
  },
  {
   "cell_type": "code",
   "execution_count": null,
   "id": "8447343d-a638-4e7c-b1b4-b08cb743260f",
   "metadata": {},
   "outputs": [],
   "source": [
    "import plotly.io as pio\n",
    "pio.renderers.default = \"plotly_mimetype+notebook\""
   ]
  },
  {
   "cell_type": "code",
   "execution_count": null,
   "id": "8d736a46-cfd5-4d71-9c45-d6e3b28b3be7",
   "metadata": {},
   "outputs": [],
   "source": [
    "%matplotlib inline\n",
    "from matplotlib import font_manager, rc\n",
    "import matplotlib.pyplot as plt\n",
    "import platform\n",
    "import seaborn as sns\n",
    "path = \"c:/Windows/Fonts/malgun.ttf\"\n",
    "if platform.system() == 'Darwin':\n",
    "    rc('font', family='AppleGothic')\n",
    "rc('axes', unicode_minus=False) "
   ]
  },
  {
   "cell_type": "code",
   "execution_count": null,
   "id": "dfbfc5f5-d261-4687-9e10-e6bb1b63983c",
   "metadata": {},
   "outputs": [],
   "source": [
    "%matplotlib inline\n",
    "from matplotlib import font_manager, rc\n",
    "import matplotlib.pyplot as plt\n",
    "import platform\n",
    "\n",
    "path = \"c:/Windows/Fonts/malgun.ttf\"\n",
    "if platform.system() == 'Darwin':\n",
    "    rc('font', family='AppleGothic')\n",
    "rc('axes', unicode_minus=False)"
   ]
  },
  {
   "cell_type": "code",
   "execution_count": null,
   "id": "4b58ef92-9746-4afd-849f-553a1961e7b9",
   "metadata": {},
   "outputs": [],
   "source": [
    "def summary(df):\n",
    "    summary = pd.DataFrame(df.dtypes, columns=['데이터 타입'])\n",
    "    summary = summary.reset_index()\n",
    "    summary = summary.rename(columns={'index':'피쳐'})\n",
    "    summary['결측값 개수'] = df.isnull().sum().values\n",
    "    summary['고유값 개수'] = df.nunique().values\n",
    "    summary['첫번째 값'] = df.loc[0].values\n",
    "    summary['두번째 값'] = df.loc[1].values\n",
    "    return summary"
   ]
  },
  {
   "cell_type": "markdown",
   "id": "68784882-3791-4122-857c-e228a4ab1641",
   "metadata": {},
   "source": [
    "# Import Data"
   ]
  },
  {
   "cell_type": "code",
   "execution_count": null,
   "id": "25745b4b-dc76-45d4-bcfe-f6734467366b",
   "metadata": {},
   "outputs": [],
   "source": [
    "df = pd.read_csv('dat.csv', low_memory=False)"
   ]
  },
  {
   "cell_type": "code",
   "execution_count": null,
   "id": "004f35aa-24c6-4884-945f-ac7fa5b723ed",
   "metadata": {},
   "outputs": [],
   "source": [
    "df.shape"
   ]
  },
  {
   "cell_type": "code",
   "execution_count": null,
   "id": "7d466af2-3845-47fa-a3b9-ed07ddfe5ab9",
   "metadata": {},
   "outputs": [],
   "source": [
    "region =pd.read_csv('region_concat.csv')\n",
    "region.drop(columns = ['행정동코드의 앞두자리'], inplace=True)"
   ]
  },
  {
   "cell_type": "markdown",
   "id": "9f5c0b9f-44fc-45bc-96f7-a4ed067b8cbe",
   "metadata": {},
   "source": [
    "# 데이터 형 변환"
   ]
  },
  {
   "cell_type": "code",
   "execution_count": null,
   "id": "6aee4dff-744e-4faa-a8d6-fd8e5130e8a1",
   "metadata": {},
   "outputs": [],
   "source": [
    "tmp = df.T.unstack().reset_index()\n",
    "tmp.columns = tmp.iloc[0,:]\n",
    "\n",
    "df = tmp.drop(index=0)\n",
    "df.head()"
   ]
  },
  {
   "cell_type": "code",
   "execution_count": null,
   "id": "ffdb4dff-f5b4-409d-952d-3674d156449f",
   "metadata": {},
   "outputs": [],
   "source": [
    "df.rename(columns = {'pk1':'date','pk2':'gender','pk3':'age','pk4':'region'}, inplace=True)\n",
    "df.drop(columns = ['# SMWH-SHINHAN-TEAM-151'], inplace=True)"
   ]
  },
  {
   "cell_type": "code",
   "execution_count": null,
   "id": "c05a3e14-70e6-4b28-95b3-e1b519083744",
   "metadata": {},
   "outputs": [],
   "source": [
    "df = pd.concat([df.iloc[:,:4],df.iloc[:,4:].apply(pd.to_numeric, errors='coerce')], axis=1)"
   ]
  },
  {
   "cell_type": "code",
   "execution_count": null,
   "id": "5695900d-f1f7-4fc8-afb8-a52e698e0bbf",
   "metadata": {},
   "outputs": [],
   "source": []
  },
  {
   "cell_type": "code",
   "execution_count": null,
   "id": "ba6814a6-2928-44f8-af2b-9ecb2d18563e",
   "metadata": {},
   "outputs": [],
   "source": [
    "region.region=region.region.astype(str)"
   ]
  },
  {
   "cell_type": "code",
   "execution_count": null,
   "id": "591f7be1-7207-4d76-9e70-61ed18a42427",
   "metadata": {},
   "outputs": [],
   "source": [
    "df = df.merge(region, on='region')\n",
    "df.head()"
   ]
  },
  {
   "cell_type": "code",
   "execution_count": null,
   "id": "1731738f-1594-464b-aab8-b52d2b5eb355",
   "metadata": {},
   "outputs": [],
   "source": [
    "pd.set_option('display.max_rows', None) \n",
    "summary(df)"
   ]
  },
  {
   "cell_type": "code",
   "execution_count": null,
   "id": "904e9211-6041-4fa8-8932-1ed473ab6629",
   "metadata": {},
   "outputs": [],
   "source": [
    "df.shape"
   ]
  },
  {
   "cell_type": "code",
   "execution_count": null,
   "id": "4db13fc0-2fd0-4a32-9d7f-6b013931fd64",
   "metadata": {},
   "outputs": [],
   "source": [
    "pd.options.display.max_rows = 60"
   ]
  },
  {
   "cell_type": "code",
   "execution_count": null,
   "id": "9515d198-5f2e-433d-abc1-d6f6919a024b",
   "metadata": {},
   "outputs": [],
   "source": [
    "# order data\n",
    "pd.options.display.float_format = '{:.5f}'.format\n",
    "a = df.describe().T.reset_index()\n",
    "b = df[[idx for idx , type_ in zip(df.dtypes.index, df.dtypes) if type_=='object']].describe().T.reset_index()"
   ]
  },
  {
   "cell_type": "code",
   "execution_count": null,
   "id": "e4711be1-564a-436b-b426-2fd894539cc7",
   "metadata": {},
   "outputs": [],
   "source": [
    "a"
   ]
  },
  {
   "cell_type": "code",
   "execution_count": null,
   "id": "465f100e-620d-4c59-93c2-19b92b234cba",
   "metadata": {},
   "outputs": [],
   "source": [
    "b"
   ]
  },
  {
   "cell_type": "code",
   "execution_count": null,
   "id": "9737de54-c2a2-4c1b-a4a8-b76eac6a61e1",
   "metadata": {},
   "outputs": [],
   "source": [
    "a = a.set_index('index')"
   ]
  },
  {
   "cell_type": "code",
   "execution_count": null,
   "id": "d09f136f-0cb5-4e0f-b983-0fff023adaec",
   "metadata": {},
   "outputs": [],
   "source": [
    "# 데이터프레임 내에서 0보다 작은 값이 있는지 확인하고 그 위치를 찾는 코드입니다.\n",
    "negative_values = (a < 0).sum().sum()\n",
    "\n",
    "if negative_values > 0:\n",
    "    print(\"데이터프레임에 0보다 작은 값이 있습니다.\")\n",
    "    negative_positions = life[life < 0].stack().index.tolist()\n",
    "    print(\"0보다 작은 값의 위치: \")\n",
    "    print(negative_positions)\n",
    "else:\n",
    "    print(\"데이터프레임에 0보다 작은 값이 없습니다.\")"
   ]
  },
  {
   "cell_type": "code",
   "execution_count": null,
   "id": "7db05e3e-ce3c-450d-8ff6-510994a3c120",
   "metadata": {
    "scrolled": true
   },
   "outputs": [],
   "source": [
    "# df.to_csv('1004_df.csv', index=False)"
   ]
  },
  {
   "cell_type": "code",
   "execution_count": null,
   "id": "5ce46bff-ea46-499b-8de6-0d0bb2aae27a",
   "metadata": {},
   "outputs": [],
   "source": []
  }
 ],
 "metadata": {
  "kernelspec": {
   "display_name": "Python 3 (ipykernel)",
   "language": "python",
   "name": "python3"
  },
  "language_info": {
   "codemirror_mode": {
    "name": "ipython",
    "version": 3
   },
   "file_extension": ".py",
   "mimetype": "text/x-python",
   "name": "python",
   "nbconvert_exporter": "python",
   "pygments_lexer": "ipython3",
   "version": "3.10.13"
  }
 },
 "nbformat": 4,
 "nbformat_minor": 5
}
