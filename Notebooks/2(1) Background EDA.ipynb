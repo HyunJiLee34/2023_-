{
 "cells": [
  {
   "cell_type": "markdown",
   "id": "05f2ade1-0fca-4f6d-9a5d-0e3df09a85d3",
   "metadata": {},
   "source": [
    "# Install & Import packages"
   ]
  },
  {
   "cell_type": "code",
   "execution_count": null,
   "id": "640a07a8-efe5-416e-961f-a01f89359784",
   "metadata": {},
   "outputs": [],
   "source": [
    "import pandas as pd\n",
    "import os\n",
    "import numpy as np\n",
    "import matplotlib.pyplot as plt\n",
    "import seaborn as sns\n",
    "from scipy.stats import linregress"
   ]
  },
  {
   "cell_type": "code",
   "execution_count": null,
   "id": "19a9a377-eb6c-427d-8dc7-377a27b7284d",
   "metadata": {},
   "outputs": [],
   "source": [
    "# 설치된 글꼴 이름 파악을 위해서!!\n",
    "import matplotlib as mpl\n",
    "from matplotlib import font_manager as fm\n",
    "from matplotlib import rc\n",
    "\n",
    "# 설정 파일 위치 확인\n",
    "print(mpl.matplotlib_fname())\n",
    "print(mpl.__file__)\n",
    "\n",
    "# Jupyter Notebook 로드 시 같이 올라온 font 목록 확인\n",
    "[f.fname for f in fm.fontManager.ttflist]\t# NanumGothic.ttf 목록에서 확인 완료!!!\n",
    "\n",
    "# NanumGothic 설정 확인\n",
    "plt.rcParams['font.family'] = 'NanumGothic'\n",
    "print(plt.rcParams['font.family'])\t\t# NanumGothic 설정 제대로 먹힌 것을 확인!!!\n",
    "\n",
    "# 마이너스(-)가 '□'로 깨지는 것을 방지하기 위하여 설정!!!\n",
    "mpl.rcParams['axes.unicode_minus'] = False\n"
   ]
  },
  {
   "cell_type": "code",
   "execution_count": null,
   "id": "4b58ef92-9746-4afd-849f-553a1961e7b9",
   "metadata": {},
   "outputs": [],
   "source": [
    "def summary(df):\n",
    "    summary = pd.DataFrame(df.dtypes, columns=['데이터 타입'])\n",
    "    summary = summary.reset_index()\n",
    "    summary = summary.rename(columns={'index':'피쳐'})\n",
    "    summary['결측값 개수'] = df.isnull().sum().values\n",
    "    summary['고유값 개수'] = df.nunique().values\n",
    "    summary['첫번째 값'] = df.loc[0].values\n",
    "    summary['두번째 값'] = df.loc[1].values\n",
    "    return summary"
   ]
  },
  {
   "cell_type": "code",
   "execution_count": null,
   "id": "ccf99081",
   "metadata": {},
   "outputs": [],
   "source": [
    "def age_column_hue_plot(y, temp):\n",
    "\n",
    "    ages = ['20e', '20s', '30e', '30s', '40e', '40s', '50e', '50s', '60e',\n",
    "       '60s']\n",
    "    plt.figure(figsize=(25, 10))\n",
    "    \n",
    "    palette = {age: 'grey' for age in ages}\n",
    "    palette['20e'] = 'mediumpurple'\n",
    "    palette['20s'] = 'mediumpurple'\n",
    "    palette['30e'] = 'mediumpurple'\n",
    "    palette['30s'] = 'mediumpurple'\n",
    "    sns.barplot(x='date', y=y, hue='age', data=df, errorbar=None, palette=palette, edgecolor='black')\n",
    "    \n",
    "    # 그래프의 제목과 x, y축 라벨을 설정합니다.\n",
    "    plt.title(temp)\n",
    "    plt.xlabel('기준일자')\n",
    "    plt.ylabel('비율')\n",
    "    plt.ticklabel_format(style='plain', axis='y', useOffset=False)\n",
    "    \n",
    "    # X축 라벨 바꾸기\n",
    "    labels = ['2022년 8월', '2022년 10월','2022년 12월', '2023년 2월','2023년 4월','2023년 6월']\n",
    "    plt.xticks(range(len(labels)), labels)\n",
    "\n",
    "    # 레전드 크기 줄이기\n",
    "    plt.legend(title_fontsize='10', labelspacing=0.3)\n",
    "    plt.savefig(temp+'savefig.png')\n",
    "    \n",
    "    plt.show()"
   ]
  },
  {
   "cell_type": "code",
   "execution_count": null,
   "id": "b4a0f89a",
   "metadata": {},
   "outputs": [],
   "source": [
    "# Function to plot the barplot with specific color for August 2022 and June 2023\n",
    "def plot_colored_barplot(y, title, subplot_position):\n",
    "    plt.subplot(2, 1, subplot_position)\n",
    "    \n",
    "    # Colors for the bars, grey for all dates except August 2022 and June 2023\n",
    "    bar_colors = ['mediumpurple' if date in [2208, 2306] else 'grey' for date in young_df['date'].unique()]\n",
    "    \n",
    "    # Plotting the barplot\n",
    "    ax = sns.barplot(x='date', y=y, data=young_df, palette=bar_colors, alpha=0.6, errorbar=None)\n",
    "    \n",
    "    # Labels and title\n",
    "    plt.ylabel(\"비율\")\n",
    "    plt.xlabel('')\n",
    "    labels = ['2022년 8월', '2022년 10월','2022년 12월', '2023년 2월','2023년 4월','2023년 6월']\n",
    "    plt.xticks(range(len(labels)), labels)\n",
    "    plt.title(title)\n",
    "    # 추세선을 위한 데이터\n",
    "    x_dates = df['date'].unique()  # 중복을 제거한 date 값\n",
    "    x_indices = np.arange(len(x_dates))  # x축 인덱스\n",
    "    \n",
    "    # 선형 회귀 모델로 추세선 계수 계산\n",
    "    slope, intercept, _, _, _ = linregress(x_indices, young_df.groupby('date')[y].mean())\n",
    "    \n",
    "    # 추세선 그리기\n",
    "    plt.plot(x_indices, intercept + slope * x_indices, color='red', label='추세선')\n",
    "    \n",
    "    \n",
    "    # Avoiding the duplicate labels in the legend\n",
    "    handles, labels = ax.get_legend_handles_labels()\n",
    "    unique = [(h, l) for i, (h, l) in enumerate(zip(handles, labels)) if l not in labels[:i]]\n",
    "    ax.legend(*zip(*unique), title_fontsize='10', labelspacing=0.3)"
   ]
  },
  {
   "cell_type": "markdown",
   "id": "68784882-3791-4122-857c-e228a4ab1641",
   "metadata": {},
   "source": [
    "# Import Data"
   ]
  },
  {
   "cell_type": "code",
   "execution_count": null,
   "id": "712aeb89-6a85-444c-9352-bd95bea916c9",
   "metadata": {},
   "outputs": [],
   "source": [
    "df = pd.read_csv('1004_df.csv', low_memory=False)"
   ]
  },
  {
   "cell_type": "code",
   "execution_count": null,
   "id": "9db24757-8996-4ab9-90a4-0ecb461e66e6",
   "metadata": {},
   "outputs": [],
   "source": [
    "df.shape"
   ]
  },
  {
   "cell_type": "code",
   "execution_count": null,
   "id": "60bb91da-f820-4bb4-a004-c79576295f23",
   "metadata": {},
   "outputs": [],
   "source": [
    "# 결측치가 존재하지 않는 신한라이프  데이터 추출\n",
    "life = df[df['la01r'].notna()]\n",
    "life.head()"
   ]
  },
  {
   "cell_type": "code",
   "execution_count": null,
   "id": "4d8418ae-9bdb-4e78-8b1c-6bbe1409c857",
   "metadata": {},
   "outputs": [],
   "source": [
    "life = pd.concat([life.iloc[:,:4], life.iloc[:,-64:]],axis=1)\n",
    "life.shape"
   ]
  },
  {
   "cell_type": "code",
   "execution_count": null,
   "id": "e79a0356-15c2-48d0-a26d-3cb474ba215f",
   "metadata": {},
   "outputs": [],
   "source": [
    "pd.options.display.float_format = '{:.5f}'.format\n",
    "a = life.describe().T.reset_index()\n",
    "b = life[[idx for idx , type_ in zip(life.dtypes.index, life.dtypes) if type_=='object']].describe().T.reset_index()"
   ]
  },
  {
   "cell_type": "code",
   "execution_count": null,
   "id": "e312ff5e-6361-40ad-b2c1-6aa2a06af3e2",
   "metadata": {},
   "outputs": [],
   "source": [
    "a = a.set_index('index')"
   ]
  },
  {
   "cell_type": "code",
   "execution_count": null,
   "id": "52266168-c168-4099-9a23-c1e639b4d9a8",
   "metadata": {},
   "outputs": [],
   "source": [
    "# 데이터프레임 내에서 0보다 작은 값이 있는지 확인하고 그 위치를 찾는 코드입니다.\n",
    "negative_values = (a < 0).sum().sum()\n",
    "\n",
    "if negative_values > 0:\n",
    "    print(\"데이터프레임에 0보다 작은 값이 있습니다.\")\n",
    "    negative_positions = life[life < 0].stack().index.tolist()\n",
    "    print(\"0보다 작은 값의 위치: \")\n",
    "    print(negative_positions)\n",
    "else:\n",
    "    print(\"데이터프레임에 0보다 작은 값이 없습니다.\")"
   ]
  },
  {
   "cell_type": "markdown",
   "id": "a6410742-ede5-4c90-bd9b-4e887b044882",
   "metadata": {},
   "source": [
    "# 1. 최근 1년 어린이 보험계약 고객의 비율 vs  어린이 보험계약 고객 비율\n",
    "\n",
    "### 1) 신규 어린이 보험 계약이 증가하는 이유\n",
    "\n",
    "저출산으로 젊은 세대 인구가 급속도로 줄자 보험사들은 ‘35세 성인까지 가입할 수 있는 어린이 보험’을 내세우며 치열한 마케팅 경쟁을 벌였다. 어른도 들 수 있는 어린이보험이라며 ‘어른이보험(어른+어린이보험)’이라는 말까지 생겼다. 부모와 자식이 나란히 어린이보험에 들기도 한다.  \n",
    "https://www.chosun.com/economy/money/2023/08/28/4CRAIJMUORHEJLTQEQKN5DS4H4/\n",
    "\n",
    "### 2) 전체 어린이 보험 계약 비율이 하락하는 이유\n",
    "저출산으로 인하여 어린이보험의 신규 가입률이 증가하더라도 전체 인구 대비 어린이 보험 가입률은 감소하는 것으로 파악된다.  \n",
    "즉, 신규 가입은 증가하지만, 전체 어린이 인구 대비로 보면 그 비율이 감소하는 것은 어린이 인구 자체의 감소 (저출산) 때문일 수 있으며, 이는 전체 어린이 보험 가입률의 하락을 의미한다."
   ]
  },
  {
   "cell_type": "code",
   "execution_count": null,
   "id": "84f90699-c8f2-4126-93ae-ccadfb44edd5",
   "metadata": {},
   "outputs": [],
   "source": [
    "# 그래프 크기 설정\n",
    "plt.figure(figsize=(8,10))\n",
    "\n",
    "# 1\n",
    "plt.subplot(2, 1, 1)\n",
    "sns.barplot(x='date', y='la04r', data=life, color='mediumpurple', alpha=0.6, label='la04r', errorbar=None)\n",
    "plt.ylabel(\"비율\")\n",
    "plt.xlabel('')\n",
    "\n",
    "labels = ['2022년 8월', '2022년 10월','2022년 12월', '2023년 2월','2023년 4월','2023년 6월']\n",
    "plt.xticks(range(len(labels)), labels)\n",
    "\n",
    "plt.title('최근 1년 신규 어린이 보험계약 고객의 비율 ')\n",
    "# 추세선을 위한 데이터\n",
    "x_dates = df['date'].unique()  # 중복을 제거한 date 값\n",
    "x_indices = np.arange(len(x_dates))  # x축 인덱스\n",
    "\n",
    "# 선형 회귀 모델로 추세선 계수 계산\n",
    "slope, intercept, _, _, _ = linregress(x_indices, life.groupby('date')['la04r'].mean())\n",
    "\n",
    "# 추세선 그리기\n",
    "plt.plot(x_indices, intercept + slope * x_indices, color='red', label='Trendline')\n",
    "\n",
    "\n",
    "#2\n",
    "plt.subplot(2, 1, 2)\n",
    "sns.barplot(x='date', y='lb04r', data=life, color='mediumpurple', alpha=0.6, label='la04r', errorbar=None)\n",
    "plt.ylabel(\"비율\")\n",
    "plt.xlabel('')\n",
    "\n",
    "labels = ['2022년 8월', '2022년 10월','2022년 12월', '2023년 2월','2023년 4월','2023년 6월']\n",
    "plt.xticks(range(len(labels)), labels)\n",
    "\n",
    "plt.title('어린이 보험계약 고객의 비율 ')\n",
    "\n",
    "# 추세선을 위한 데이터\n",
    "x_dates = df['date'].unique()  # 중복을 제거한 date 값\n",
    "x_indices = np.arange(len(x_dates))  # x축 인덱스\n",
    "\n",
    "# 선형 회귀 모델로 추세선 계수 계산\n",
    "slope, intercept, _, _, _ = linregress(x_indices, life.groupby('date')['lb04r'].mean())\n",
    "\n",
    "# 추세선 그리기\n",
    "plt.plot(x_indices, intercept + slope * x_indices, color='red', label='Trendline')\n",
    "plt.savefig('저출산 savefig.png')\n",
    "# 레이아웃 조정\n",
    "plt.tight_layout()\n",
    "plt.show()\n",
    "\n"
   ]
  },
  {
   "cell_type": "code",
   "execution_count": null,
   "id": "ad86682b-40d6-4180-a017-3b9a996b5a33",
   "metadata": {},
   "outputs": [],
   "source": [
    "# 청년층 연령대 정의\n",
    "young_ages = ['20e', '20s', '30e', '30s']\n",
    "\n",
    "# 청년층 데이터 필터링\n",
    "young_df = life[life['age'].isin(young_ages)]\n",
    "\n",
    "# 청년층과 그 외 연령대로 데이터 분리\n",
    "other_ages_df = life[~life['age'].isin(young_ages)]"
   ]
  },
  {
   "cell_type": "code",
   "execution_count": null,
   "id": "bb58300d",
   "metadata": {},
   "outputs": [],
   "source": []
  },
  {
   "cell_type": "code",
   "execution_count": null,
   "id": "f10f15da",
   "metadata": {},
   "outputs": [],
   "source": []
  },
  {
   "cell_type": "markdown",
   "id": "34928f79-cca3-4a8b-9299-e44cbc63ae66",
   "metadata": {},
   "source": [
    "# 2. 최근1년 신규 변액보험"
   ]
  },
  {
   "cell_type": "code",
   "execution_count": null,
   "id": "19aa2f33-03bf-4aa0-bcca-684b98536526",
   "metadata": {},
   "outputs": [],
   "source": [
    "# 평균 주택대출평잔\n",
    "age_column_hue_plot('la06r','최근 1년 변액 보험계약 고객 비율')"
   ]
  },
  {
   "cell_type": "code",
   "execution_count": null,
   "id": "683f9171",
   "metadata": {},
   "outputs": [],
   "source": []
  },
  {
   "cell_type": "markdown",
   "id": "6bfaa992",
   "metadata": {},
   "source": [
    "# 3. 청장년(2030)의 최근1년 신규 연금저축 보험계약 고객 비율 vs 청장년(2030)의 최근1년 변액 보험계약 고객 비율"
   ]
  },
  {
   "cell_type": "code",
   "execution_count": null,
   "id": "2c1eb9f9-d02c-4129-95fc-52442d1ab0ea",
   "metadata": {},
   "outputs": [],
   "source": [
    "# Setting the figure size\n",
    "plt.figure(figsize=(8, 10))\n",
    "\n",
    "# Plotting the first barplot\n",
    "plot_colored_barplot('la05r', '청장년(2030)의 최근1년 신규 연금저축 보험계약 고객의 비율', 1)\n",
    "\n",
    "# Plotting the second barplot\n",
    "plot_colored_barplot('la06r', '청장년(2030)의 최근1년 신규 변액 보험계약 고객의 비율', 2)\n",
    "\n",
    "# Adjusting the layout\n",
    "plt.tight_layout()\n",
    "plt.savefig('2030 변액보험 savefig.png')\n",
    "plt.show()\n"
   ]
  },
  {
   "cell_type": "markdown",
   "id": "8b0ddf06-79e5-4dc3-81ac-872e9fa46692",
   "metadata": {},
   "source": [
    "- 그러나 청년대의 신규 연금저축 보험과 신규 변액 보험계약의 가입 추이를 확인한 결과 그들의 양상은 달라지고있었다.\n",
    "- 최근1년간 청년들의 신규 연금저축보험 가입 비율은 그림과 같이 증가 추세를 보인다  \n",
    "        이는 초기 21년 8월~ 22년 8월 신계약 대비 22년 6월~23년 6월 약 **% 증가하엿음을 알 수 있다.\n",
    "- 더불어 최근1년 신규 변액 보험계약 고객의 비율은 꾸준한 감소 추세를 보인다.  \n",
    "        이는 초기 21년 8월~ 22년 8월 신계약 대비 22년 6월~23년 6월 약 **%가 감소하였음을 확인하였다.\n",
    "\n",
    "- 이로써, 청년들이 타 연령대에 비하여 연금저축보험의 가입 양상은 적고 변액 보험계약 고객 비율은 월등히 높지만, 기준년월별 최근 1년간의 양상을 살펴보니 미래에 대한 대비에 더 관심을 갖고있음을 확인하였다."
   ]
  },
  {
   "cell_type": "code",
   "execution_count": null,
   "id": "02918427",
   "metadata": {},
   "outputs": [],
   "source": []
  },
  {
   "cell_type": "code",
   "execution_count": null,
   "id": "595b4b17",
   "metadata": {},
   "outputs": [],
   "source": []
  },
  {
   "cell_type": "code",
   "execution_count": null,
   "id": "64c460c7",
   "metadata": {},
   "outputs": [],
   "source": []
  },
  {
   "cell_type": "markdown",
   "id": "56a8d6a5-d884-42a7-bc21-3bc9ada14fa3",
   "metadata": {},
   "source": [
    "# 4. 변액 보험계약 고객 비율 vs 연금저축 보험계약 고객 비율\n",
    "청장년과 이외 연령대의 보험 계약 특징을 비교해보았습니다."
   ]
  },
  {
   "cell_type": "markdown",
   "id": "a7ab3e3d-2909-48e8-ab7b-21d62070640f",
   "metadata": {},
   "source": [
    "#### 변액 보험계약 고객 비율 (lb06r):\n",
    "\n",
    "- 청년층에서 더 높은 변액 보험계약 고객 비율을 가진 고객들이 그 외 연령대에 비해 더 많은 것으로 보입니다.\n",
    "청년층은 높은 리스크를 감수하며 높은 수익률을 추구하는 경향이 있음을 나타냅니다.\n",
    "#### 연금저축 보험계약 고객 비율 (lb05r):\n",
    "\n",
    "- 두 연령대 모두 비슷한 분포를 보이고 있으나, 그 외 연령대에서 더 높은 비율의 고객이 있는 것으로 보입니다.\n",
    "이는 그 외 연령대가 노후를 대비한 저축 및 투자의 중요성을 더욱 인식하고 있음을 나타낼 수 있습니다.\n",
    "#### 결론:\n",
    "- 히스토그램을 통해 청년층이 높은 리스크를 감수하는 경향이 있으며, 이는 변액 보험계약 고객 비율의 분포에서 잘 드러납니다. "
   ]
  },
  {
   "cell_type": "code",
   "execution_count": null,
   "id": "49c393fd-cdf5-492c-bda5-4a835f1e9f4e",
   "metadata": {},
   "outputs": [],
   "source": [
    "# 히스토그램을 사용하여 청년층과 그 외 연령대의 lb06r과 lb05r 분포 비교\n",
    "plt.figure(figsize=(20, 10))\n",
    "\n",
    "# 변액 보험계약 고객 비율 (lb06r)의 분포\n",
    "plt.subplot(2, 1, 1)\n",
    "plt.hist(young_df['lb06r'], bins=40, alpha=0.6, label='청장년(2030)', color='b')\n",
    "plt.hist(other_ages_df['lb06r'], bins=40, alpha=0.4, label='이 외 연령대', color='r')\n",
    "plt.title('변액 보험계약 고객 비율')\n",
    "# plt.xlabel('q')\n",
    "plt.legend()\n",
    "\n",
    "# 연금저축 보험계약 고객 비율 (lb05r)의 분포\n",
    "plt.subplot(2, 1, 2)\n",
    "plt.hist(young_df['lb05r'], bins=40, alpha=0.6, label='청장년(2030)', color='b')\n",
    "plt.hist(other_ages_df['lb05r'], bins=40, alpha=0.4, label='이 외 연령대', color='r')\n",
    "plt.title('연금저축 보험계약 고객 비율')\n",
    "plt.xlabel('비율')\n",
    "\n",
    "plt.legend()\n",
    "plt.savefig('변액,연금저축 savefig.png')\n",
    "plt.tight_layout()\n",
    "plt.show()\n"
   ]
  },
  {
   "cell_type": "markdown",
   "id": "35c1975b-5589-4ec6-b428-ad5e8da88323",
   "metadata": {},
   "source": [
    "## violonplot\n",
    "\n",
    "\n"
   ]
  },
  {
   "cell_type": "code",
   "execution_count": null,
   "id": "01a48a5f-814a-4b3b-bc7e-4cf6bd75640f",
   "metadata": {},
   "outputs": [],
   "source": [
    "import matplotlib.pyplot as plt\n",
    "import seaborn as sns\n",
    "\n",
    "# 그래프 크기 설정\n",
    "plt.figure(figsize=(10, 12))\n",
    "\n",
    "# 청년층과 그 외 연령대의 데이터를 하나의 DataFrame으로 합칩니다.\n",
    "combined_df = pd.concat([young_df.assign(Age_Group='청장년'), other_ages_df.assign(Age_Group='이 외 연령대')])\n",
    "\n",
    "# la06r 비교\n",
    "plt.subplot(2, 1, 1)\n",
    "sns.violinplot(x='Age_Group', y='lb06r', data=combined_df, \n",
    "               inner='quartile', palette={'청장년': 'mediumpurple', '이 외 연령대': 'gray'})\n",
    "plt.title('변액 보험계약 고객 비율')\n",
    "\n",
    "# la05r 비교\n",
    "plt.subplot(2, 1, 2)\n",
    "sns.violinplot(x='Age_Group', y='lb05r', data=combined_df, \n",
    "               inner='quartile', palette={'청장년': 'gray', '이 외 연령대': 'mediumpurple'})\n",
    "plt.title('연금저축 보험계약 고객 비율')\n",
    "\n",
    "# 레이아웃 조정\n",
    "plt.tight_layout()\n",
    "plt.show()\n"
   ]
  },
  {
   "cell_type": "markdown",
   "id": "a322127a-4220-4bcb-a587-ad3f91daaa63",
   "metadata": {
    "jp-MarkdownHeadingCollapsed": true
   },
   "source": [
    "# 5. 최근 1년 어린이 보험계약 고객의 비율 증감 확인\n",
    "## 데이터 처리\n",
    "1. 데이터는 기간->연령->성별->행정동 별 비율을 나타내고있다\n",
    "2. 이를 고려하지않고 기간별 혹은 연령별 평균을 구하는 경우, 분모(전체 보험가입자수)가 행정동별로 다르기 때문에 통계적으로 오류가 발생한다.\n",
    "3. 따라서, 행정동별로 묶은 뒤, 행정동 별 기준일자에 따른 변화를 파악해야 정확한 비교가 가능하다.\n",
    "\n",
    "## 추세식\n",
    "1. 기준일자별 비교가 가능한 데이터를 추출하기 위해 주어진 날짜 (2208, 2210, 2212, 2302, 2304, 2306)가 모두 존재하고 lb04r이 모두 0이 아닌 값만 추출하였다. \n",
    "2. 이후 , 추세식을 세운 후, 그 추세가 음수인 경우 -1, 양수인경우 1, 0인경우 0으로 설정하였다.\n",
    "3. 어린이 보험계약이 음의 관계를 보이는 행정동의 비율 = (추세가 음수인 행정동 /전체 행정동 수)\n"
   ]
  },
  {
   "cell_type": "code",
   "execution_count": null,
   "id": "8bf0e4fa-d3cd-44e4-b5d6-1a3ad4bafe9a",
   "metadata": {},
   "outputs": [],
   "source": [
    "# 데이터 필터링 및 추세 계산 함수\n",
    "given_dates = [2208, 2210, 2212, 2302, 2304, 2306]\n",
    "from scipy.stats import linregress\n",
    "\n",
    "def filter_and_plot_trends(age, gender):\n",
    "    # 데이터 필터링\n",
    "    filtered_data = life.query(f'age == \"{age}\" & gender == \"{gender}\"')[['date', 'la04r', '행정동명']]\n",
    "    \n",
    "    filtered_regions = []\n",
    "    trends = []\n",
    "    \n",
    "    # 주어진 날짜가 모두 존재하고, 값들이 모두 0이 아닌 데이터를 한정\n",
    "    for region, group in filtered_data.groupby('행정동명'):\n",
    "        if all(date in group['date'].values for date in given_dates) and (group['la04r'] != 0).any():\n",
    "            group = group[group['date'].isin(given_dates)]\n",
    "            group = group.sort_values(by='date')  # 날짜별로 정렬\n",
    "            \n",
    "            x = np.arange(len(group))  # x 좌표\n",
    "            y = group['la04r'].values  # y 좌표\n",
    "            \n",
    "            slope, _, _, _, _ = linregress(x, y)  # 추세선 계산\n",
    "            \n",
    "            trends.append(slope)\n",
    "            filtered_regions.append(region)\n",
    "    \n",
    "    trends_df = pd.DataFrame({'행정동명': filtered_regions, '추세': trends})\n",
    "    \n",
    "    return trends_df\n"
   ]
  },
  {
   "cell_type": "code",
   "execution_count": null,
   "id": "d9a755e0-54eb-42ab-8481-9caa602aa8a0",
   "metadata": {},
   "outputs": [],
   "source": [
    "trends_df = filter_and_plot_trends('30e',\"F\")\n",
    "# display(trends_df)\n",
    "trends_df['value'] = trends_df['추세'].apply(lambda x: 1 if x > 0 else (0 if x == 0 else -1))\n",
    "# trends_df\n",
    "negative_trend_ratio = (trends_df['value'] == -1).sum() / len(trends_df)\n",
    "\n",
    "print(\"최근1년 신규 어린이 보험계약 고객의 비율이 감소하는 행정동 비율 (30대 후반 여성) : \" , np.round(negative_trend_ratio,3))"
   ]
  },
  {
   "cell_type": "code",
   "execution_count": null,
   "id": "b0edf6ec-b594-4a4d-adb0-685d3a4ddfb6",
   "metadata": {},
   "outputs": [],
   "source": [
    "trends_df = filter_and_plot_trends('30s',\"F\")\n",
    "trends_df['value'] = trends_df['추세'].apply(lambda x: 1 if x > 0 else(0 if x == 0 else -1))\n",
    "\n",
    "negative_trend_ratio = (trends_df['value'] == -1).sum() / len(trends_df)\n",
    "\n",
    "print(\"최근1년 신규 어린이 보험계약 고객의 비율이 감소하는 행정동 비율 (30대 초반 여성) : \" , np.round(negative_trend_ratio,3))\n"
   ]
  },
  {
   "cell_type": "code",
   "execution_count": null,
   "id": "05603808-9340-4383-a002-c084deb9e880",
   "metadata": {},
   "outputs": [],
   "source": [
    "trends_df = filter_and_plot_trends('20s',\"F\")\n",
    "trends_df['value'] = trends_df['추세'].apply(lambda x: 1 if x > 0 else(0 if x == 0 else -1))\n",
    "\n",
    "negative_trend_ratio = (trends_df['value'] == -1).sum() / len(trends_df)\n",
    "\n",
    "print(\"최근1년 신규 어린이 보험계약 고객의 비율이 감소하는 행정동 비율 (20대 초반 여성) : \" , np.round(negative_trend_ratio,3))\n"
   ]
  },
  {
   "cell_type": "code",
   "execution_count": null,
   "id": "ee0653f6-2ae4-43a5-8c2f-16075acb1379",
   "metadata": {},
   "outputs": [],
   "source": [
    "trends_df = filter_and_plot_trends('20e',\"F\")\n",
    "trends_df['value'] = trends_df['추세'].apply(lambda x: 1 if x > 0 else(0 if x == 0 else -1))\n",
    "\n",
    "negative_trend_ratio = (trends_df['value'] == -1).sum() / len(trends_df)\n",
    "\n",
    "print(\"최근1년 신규 어린이 보험계약 고객의 비율이 감소하는 행정동 비율 (20대 후반 여성) : \" , np.round(negative_trend_ratio,3))"
   ]
  },
  {
   "cell_type": "code",
   "execution_count": null,
   "id": "f170de83-3a21-42b7-bc5d-0f84a6c0c555",
   "metadata": {},
   "outputs": [],
   "source": []
  },
  {
   "cell_type": "code",
   "execution_count": null,
   "id": "5085524b-c79f-44c8-b9a7-2fd4bb1e699b",
   "metadata": {},
   "outputs": [],
   "source": [
    "# 데이터 필터링\n",
    "woman_30 = life.query('age == \"30e\" & gender == \"F\"')[['date', 'la04r','행정동명']]\n",
    "\n",
    "\n",
    "\n",
    "for (k1, group) in woman_30.groupby(['행정동명']):\n",
    "    if (group['la04r'] > 0).all():  # la04r 값이 모두 0이 아닌 경우만 처리\n",
    "        plt.figure(figsize=(10, 5))\n",
    "\n",
    "        # barplot 그리기\n",
    "        sns.barplot(data=group, x='date', y='la04r', color=\"mediumpurple\", alpha=0.7, label=\"la04r\")\n",
    "\n",
    "        # 추세선을 위한 데이터\n",
    "        x = np.arange(len(group))\n",
    "        y = group['la04r'].values\n",
    "\n",
    "        # 추세선 계산\n",
    "        slope, intercept, r_value, p_value, std_err = linregress(x, y)\n",
    "\n",
    "        # 추세선 그리기\n",
    "        plt.plot(x, intercept + slope * x, color=\"red\", label=\"Trendline\")\n",
    "\n",
    "        # 그래프 타이틀, 레이블 설정\n",
    "        plt.title(f'{k1} - 시간에 따른 최근1년 신규 어린이 보험계약 고객의 비율 변화')\n",
    "        plt.xlabel('Date')\n",
    "        plt.ylabel('la04r')\n",
    "        plt.legend()\n",
    "\n",
    "        plt.show()\n",
    "        break\n",
    "        \n"
   ]
  },
  {
   "cell_type": "markdown",
   "id": "781286f9-248c-46fc-8189-72d189f7ac91",
   "metadata": {},
   "source": [
    "### 결론\n",
    "최근 1년간 신규 어린이 보험계약 고객 비율은 적지만 과반수이상의 행정동에서 증가폭을 보인다"
   ]
  },
  {
   "cell_type": "code",
   "execution_count": null,
   "id": "fe87cc28-d211-48a8-bfef-45fe34efac7e",
   "metadata": {},
   "outputs": [],
   "source": []
  },
  {
   "cell_type": "code",
   "execution_count": null,
   "id": "5eded475-14ff-4745-93b1-5c452eaea72b",
   "metadata": {},
   "outputs": [],
   "source": []
  },
  {
   "cell_type": "markdown",
   "id": "bcc8fb26-c24a-4442-b5dd-12e78c260944",
   "metadata": {},
   "source": [
    "# 6. 어린이 보험계약 고객의 비율 증감 확인"
   ]
  },
  {
   "cell_type": "code",
   "execution_count": null,
   "id": "1ac1a586-fa65-424d-948d-40d5a1ee172e",
   "metadata": {},
   "outputs": [],
   "source": [
    "# 데이터 필터링 및 추세 계산 함수\n",
    "given_dates = [2208, 2210, 2212, 2302, 2304, 2306]\n",
    "\n",
    "\n",
    "def filter_and_plot_trends_lb04r(age, gender):\n",
    "    # 데이터 필터링\n",
    "    filtered_data = life.query(f'age == \"{age}\" & gender == \"{gender}\"')[['date', 'lb04r', '행정동명']]\n",
    "    \n",
    "    filtered_regions = []\n",
    "    trends = []\n",
    "    \n",
    "    # 주어진 날짜가 모두 존재하고, 값들이 모두 0이 아닌 데이터를 한정\n",
    "    for region, group in filtered_data.groupby('행정동명'):\n",
    "        if all(date in group['date'].values for date in given_dates) and (group['lb04r'] != 0).any():\n",
    "            group = group[group['date'].isin(given_dates)]\n",
    "            group = group.sort_values(by='date')  # 날짜별로 정렬\n",
    "            \n",
    "            x = np.arange(len(group))  # x 좌표\n",
    "            y = group['lb04r'].values  # y 좌표\n",
    "            \n",
    "            slope, _, _, _, _ = linregress(x, y)  # 추세선 계산\n",
    "            \n",
    "            trends.append(slope)\n",
    "            filtered_regions.append(region)\n",
    "    \n",
    "    trends_df = pd.DataFrame({'행정동명': filtered_regions, '추세': trends})\n",
    "    \n",
    "    return trends_df\n"
   ]
  },
  {
   "cell_type": "code",
   "execution_count": null,
   "id": "a01427aa-5899-44e9-9507-316a182cea3b",
   "metadata": {},
   "outputs": [],
   "source": [
    "trends_df = filter_and_plot_trends_lb04r('30e',\"F\")\n",
    "trends_df['value'] = trends_df['추세'].apply(lambda x: 1 if x > 0 else(0 if x == 0 else -1))\n",
    "\n",
    "negative_trend_ratio = (trends_df['value'] == -1).sum() / len(trends_df)\n",
    "\n",
    "print(\"어린이 보험계약 고객의 비율이 감소하는 행정동 비율 (30대 후반 여성) : \" , np.round(negative_trend_ratio,3) *100 ,'%')"
   ]
  },
  {
   "cell_type": "code",
   "execution_count": null,
   "id": "4e6c8d7c-cfcb-4203-a9ea-bbc56d708c7d",
   "metadata": {},
   "outputs": [],
   "source": [
    "trends_df = filter_and_plot_trends_lb04r('30s',\"F\")\n",
    "trends_df['value'] = trends_df['추세'].apply(lambda x: 1 if x > 0 else(0 if x == 0 else -1))\n",
    "\n",
    "negative_trend_ratio = (trends_df['value'] == -1).sum() / len(trends_df)\n",
    "\n",
    "print(\"어린이 보험계약 고객의 비율이 감소하는 행정동 비율 (30대 초반 여성) : \" ,np.round(negative_trend_ratio,2) *100 ,'%')"
   ]
  },
  {
   "cell_type": "code",
   "execution_count": null,
   "id": "caec2494-dfce-414d-8f0f-5257e75c22fe",
   "metadata": {},
   "outputs": [],
   "source": [
    "trends_df = filter_and_plot_trends_lb04r('40e',\"F\")\n",
    "trends_df['value'] = trends_df['추세'].apply(lambda x: 1 if x > 0 else(0 if x == 0 else -1))\n",
    "\n",
    "negative_trend_ratio = (trends_df['value'] == -1).sum() / len(trends_df)\n",
    "\n",
    "print(\"어린이 보험계약 고객의 비율이 감소하는 행정동 비율 (40대 후반 여성) : \" , np.round(negative_trend_ratio,3) *100 ,'%')"
   ]
  },
  {
   "cell_type": "code",
   "execution_count": null,
   "id": "53da5c56-05c4-458c-8572-85f45bdecd31",
   "metadata": {},
   "outputs": [],
   "source": [
    "trends_df = filter_and_plot_trends_lb04r('40s',\"F\")\n",
    "trends_df['value'] = trends_df['추세'].apply(lambda x: 1 if x > 0 else(0 if x == 0 else -1))\n",
    "\n",
    "negative_trend_ratio = (trends_df['value'] == -1).sum() / len(trends_df)\n",
    "\n",
    "print(\"어린이 보험계약 고객의 비율이 감소하는 행정동 비율 (40대 초반 여성) : \" ,np.round(negative_trend_ratio,3) *100 ,'%')"
   ]
  },
  {
   "cell_type": "markdown",
   "id": "0750eed0-4370-405c-9e41-0c1035089ae3",
   "metadata": {},
   "source": [
    "### 결론\n",
    "- 22년 8월 ~ 23년 6월 30,40대 여성의 어린이 보험계약 고객 증감폭을 확인 한 결과, 행정동별 모두 감소폭 (음수)을 보였다.   \n",
    "- 특히, 행정동별 30대 후반 여성은 약 **% 가 감소한것을 확인하였다."
   ]
  },
  {
   "cell_type": "code",
   "execution_count": null,
   "id": "f655d7a9-fba2-4e40-bd9c-212fa47eeffc",
   "metadata": {},
   "outputs": [],
   "source": []
  }
 ],
 "metadata": {
  "kernelspec": {
   "display_name": "Python 3.8.15 ('RecommendationProject')",
   "language": "python",
   "name": "python3"
  },
  "language_info": {
   "codemirror_mode": {
    "name": "ipython",
    "version": 3
   },
   "file_extension": ".py",
   "mimetype": "text/x-python",
   "name": "python",
   "nbconvert_exporter": "python",
   "pygments_lexer": "ipython3",
   "version": "3.8.15"
  },
  "vscode": {
   "interpreter": {
    "hash": "e9878f649300c3aed1193b24b03333ef5e89e683fbdde5cd00c6b9821d121fd5"
   }
  }
 },
 "nbformat": 4,
 "nbformat_minor": 5
}
