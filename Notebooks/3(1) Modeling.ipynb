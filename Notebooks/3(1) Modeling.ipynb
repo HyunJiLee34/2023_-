{
 "cells": [
  {
   "cell_type": "markdown",
   "id": "05f2ade1-0fca-4f6d-9a5d-0e3df09a85d3",
   "metadata": {},
   "source": [
    "## Import packages"
   ]
  },
  {
   "cell_type": "code",
   "execution_count": null,
   "id": "65eeccc2-af8c-4885-917a-e77d6df150e2",
   "metadata": {},
   "outputs": [],
   "source": [
    "import torch\n",
    "import torch.nn as nn"
   ]
  },
  {
   "cell_type": "code",
   "execution_count": null,
   "id": "3026d0e6-71bf-469b-be3a-244fa697d7cc",
   "metadata": {},
   "outputs": [],
   "source": [
    "from pytorch_tabnet.tab_model import TabNetClassifier, TabNetRegressor\n",
    "# ignore warnings\n",
    "import warnings ; warnings.filterwarnings('ignore')"
   ]
  },
  {
   "cell_type": "code",
   "execution_count": null,
   "id": "640a07a8-efe5-416e-961f-a01f89359784",
   "metadata": {},
   "outputs": [],
   "source": [
    "import pandas as pd\n",
    "import os\n",
    "import numpy as np\n",
    "import matplotlib.pyplot as plt\n",
    "import seaborn as sns\n",
    "\n",
    "from sklearn.preprocessing import normalize\n",
    "import statsmodels.api as sm\n",
    "import statsmodels.formula.api as smf\n",
    "from statsmodels.stats.outliers_influence import OLSInfluence\n",
    "\n",
    "\n",
    "# Encoding\n",
    "from sklearn.preprocessing import LabelEncoder\n",
    "from sklearn.preprocessing import OneHotEncoder\n",
    "\n",
    "#pickle\n",
    "import pickle"
   ]
  },
  {
   "cell_type": "code",
   "execution_count": null,
   "id": "19a9a377-eb6c-427d-8dc7-377a27b7284d",
   "metadata": {},
   "outputs": [],
   "source": [
    "# 설치된 글꼴 이름 파악을 위해서!!\n",
    "import matplotlib as mpl\n",
    "from matplotlib import font_manager as fm\n",
    "from matplotlib import rc\n",
    "\n",
    "# 설정 파일 위치 확인\n",
    "print(mpl.matplotlib_fname())\n",
    "print(mpl.__file__)\n",
    "\n",
    "# Jupyter Notebook 로드 시 같이 올라온 font 목록 확인\n",
    "[f.fname for f in fm.fontManager.ttflist]\t# NanumGothic.ttf 목록에서 확인 완료!!!\n",
    "\n",
    "# NanumGothic 설정 확인\n",
    "plt.rcParams['font.family'] = 'NanumGothic'\n",
    "print(plt.rcParams['font.family'])\t\t# NanumGothic 설정 제대로 먹힌 것을 확인!!!\n",
    "\n",
    "# 마이너스(-)가 '□'로 깨지는 것을 방지하기 위하여 설정!!!\n",
    "mpl.rcParams['axes.unicode_minus'] = False\n"
   ]
  },
  {
   "cell_type": "code",
   "execution_count": null,
   "id": "4b58ef92-9746-4afd-849f-553a1961e7b9",
   "metadata": {},
   "outputs": [],
   "source": [
    "def summary(df):\n",
    "    summary = pd.DataFrame(df.dtypes, columns=['데이터 타입'])\n",
    "    summary = summary.reset_index()\n",
    "    summary = summary.rename(columns={'index':'피쳐'})\n",
    "    summary['결측값 개수'] = df.isnull().sum().values\n",
    "    summary['고유값 개수'] = df.nunique().values\n",
    "    summary['첫번째 값'] = df.loc[0].values\n",
    "    summary['두번째 값'] = df.loc[1].values\n",
    "    return summary"
   ]
  },
  {
   "cell_type": "markdown",
   "id": "68784882-3791-4122-857c-e228a4ab1641",
   "metadata": {},
   "source": [
    "## Data Preprocessing"
   ]
  },
  {
   "cell_type": "code",
   "execution_count": null,
   "id": "712aeb89-6a85-444c-9352-bd95bea916c9",
   "metadata": {},
   "outputs": [],
   "source": [
    "df = pd.read_csv('1004_df.csv', low_memory=False)"
   ]
  },
  {
   "cell_type": "code",
   "execution_count": null,
   "id": "1ff7f71b-6b65-4533-86b9-e5767d4da1da",
   "metadata": {},
   "outputs": [],
   "source": [
    "# 청장년층으로 필터링\n",
    "df = df[df['age'].isin(['20e', '20s', '30e', '30s'])]"
   ]
  },
  {
   "cell_type": "code",
   "execution_count": null,
   "id": "5560848c-f3e1-4bd2-90d0-55a35d1ade5f",
   "metadata": {},
   "outputs": [],
   "source": [
    "df.date = df.date.astype('str')"
   ]
  },
  {
   "cell_type": "code",
   "execution_count": null,
   "id": "bbf9d9c3-a531-47ed-ae85-7fcd36524ff4",
   "metadata": {},
   "outputs": [],
   "source": [
    "# 'year'와 'month' 컬럼 생성\n",
    "df['year'] = df['date'].str[:2] \n",
    "df['month'] = df['date'].str[2:]  "
   ]
  },
  {
   "cell_type": "code",
   "execution_count": null,
   "id": "a1ba9eb9-ecca-4467-8d45-4f0b9aef8d4a",
   "metadata": {},
   "outputs": [],
   "source": [
    "df.year= df.year.astype('int')\n",
    "df.month= df.month.astype('int')\n",
    "df.date = df.date.astype('int')"
   ]
  },
  {
   "cell_type": "code",
   "execution_count": null,
   "id": "c6031487-64a3-4c5c-80f0-e78d8cdda639",
   "metadata": {},
   "outputs": [],
   "source": [
    "# 2개월 전의 값으로 2개월 후의 lb08m을 설명하는 통계 모델을 만들고 예측값을 지표로 사용하고자 한다.\n",
    "\n",
    "ease = df.query('date > 2208')[['lb08m','month','date','year','gender','age','region']].copy() \n",
    "ease['month'] = (ease['month'] - 2).astype(str).str.zfill(2)  # 한 자리수 월을 두 자리수로 만듭니다.\n",
    "\n",
    "ease['year'] = ease['year'].astype(str)\n",
    "ease['date'] = ease['year'] + ease['month']  # 'year'와 'month'를 합쳐 'date'를 만듭니다.\n"
   ]
  },
  {
   "cell_type": "code",
   "execution_count": null,
   "id": "d7824614-4002-4d71-9f4b-66a211c4fd61",
   "metadata": {},
   "outputs": [],
   "source": [
    "ease['date'] = ease['date'].replace('2300', '2212')\n",
    "ease = ease.drop(['year','month'],axis=1)\n",
    "df.date = df.date.astype('str')"
   ]
  },
  {
   "cell_type": "code",
   "execution_count": null,
   "id": "1793c1da-3ec8-4e4f-8f72-bddfcf83bc56",
   "metadata": {},
   "outputs": [],
   "source": [
    "Y = df.query('date==\"2306\"')\n",
    "y = df['lb08m']"
   ]
  },
  {
   "cell_type": "code",
   "execution_count": null,
   "id": "5810ee88-83a8-4ad4-9bee-4a5f5ecb69b9",
   "metadata": {},
   "outputs": [],
   "source": [
    "df.date=df.date.astype('int')\n",
    "ease.date=ease.date.astype('int')"
   ]
  },
  {
   "cell_type": "code",
   "execution_count": null,
   "id": "eb82b8bf-8a3b-4b26-b598-a3af65d4c828",
   "metadata": {},
   "outputs": [],
   "source": [
    "df = df.query('date<2306').drop(['lb08m','year','month'],axis=1).merge(ease, on =['date','gender','age','region'])"
   ]
  },
  {
   "cell_type": "markdown",
   "id": "799f1d6b-4295-4415-9348-7d0544f4784c",
   "metadata": {},
   "source": [
    "## Encoding"
   ]
  },
  {
   "cell_type": "code",
   "execution_count": null,
   "id": "10c59ffc-c148-4186-8744-c295608ff73c",
   "metadata": {},
   "outputs": [],
   "source": [
    "# LabelEncoder를 객체로 생성\n",
    "encoder = LabelEncoder()\n",
    "\n",
    "# fit, transform 메소드를 통한 레이블 인코딩\n",
    "encoder.fit(df['age'])\n",
    "\n",
    "df[\"age\"] = encoder.transform(df['age'])\n",
    "\n",
    "\n",
    "Y[\"age\"] = encoder.transform(Y['age'])"
   ]
  },
  {
   "cell_type": "code",
   "execution_count": null,
   "id": "cbdd0269-25d0-419b-a795-615e9977738f",
   "metadata": {},
   "outputs": [],
   "source": [
    "#성별\n",
    "oh = OneHotEncoder()\n",
    "encoder = oh.fit_transform(df['gender'].values.reshape(-1,1)).toarray() # 인코딩 하기 전에 2차원 데이터로 변환\n",
    "df_OneHot = pd.DataFrame(encoder, columns=[\"gender_\" + str(oh.categories_[0][i]) for i in range (len(oh.categories_[0]))])\n",
    "\n",
    "df = pd.concat([df, df_OneHot], axis=1)\n",
    "\n",
    "# test 데이터에 transform\n",
    "encoder = oh.transform(Y['gender'].values.reshape(-1, 1)).toarray()\n",
    "df_test_OneHot = pd.DataFrame(encoder, columns=[\"gender_\" + str(oh.categories_[0][i]) for i in range (len(oh.categories_[0]))])\n",
    "Y = pd.concat([Y.reset_index(drop=True), df_test_OneHot], axis=1).drop(columns=['gender'])"
   ]
  },
  {
   "cell_type": "code",
   "execution_count": null,
   "id": "2126a739-55ac-4db4-a492-218624856257",
   "metadata": {},
   "outputs": [],
   "source": [
    "df.drop(columns = ['gender','광역시도명','구명','행정동명','시군구명'], inplace=True)\n",
    "Y.drop(columns = ['광역시도명','구명','행정동명','시군구명','month','year'], inplace=True)"
   ]
  },
  {
   "cell_type": "code",
   "execution_count": null,
   "id": "8143a41d-5f77-4657-97c0-0a11f80b996e",
   "metadata": {},
   "outputs": [],
   "source": [
    "df = df[df.notnull().all(axis=1)]\n",
    "print(df.isna().sum().sum())\n",
    "\n",
    "Y=Y[Y.notnull().all(axis=1)]\n",
    "print(Y.isna().sum().sum())"
   ]
  },
  {
   "cell_type": "code",
   "execution_count": null,
   "id": "5cf40aba-e2b1-4aa7-872a-7c85c5422f59",
   "metadata": {},
   "outputs": [],
   "source": [
    "target=Y.lb08m\n",
    "y_train=df.lb08m"
   ]
  },
  {
   "cell_type": "code",
   "execution_count": null,
   "id": "d7e04774-d3ec-40cb-867d-1191136fefc1",
   "metadata": {},
   "outputs": [],
   "source": [
    "Y.drop(columns = ['lb08m'], inplace=True)"
   ]
  },
  {
   "cell_type": "code",
   "execution_count": null,
   "id": "1abc6da7-1f5e-4813-9a32-8630a3ba1742",
   "metadata": {},
   "outputs": [],
   "source": [
    "from sklearn.preprocessing import StandardScaler\n",
    "scaler = StandardScaler()\n",
    "# train 데이터에 fit_transform\n",
    "X_train_scaled = pd.DataFrame(scaler.fit_transform(df.iloc[:,3:-2]), columns=df.iloc[:,3:-2].columns)\n",
    "\n",
    "# test 데이터에 transform\n",
    "X_test_scaled = pd.DataFrame(scaler.transform(Y.iloc[:,3:-2]), columns=Y.iloc[:,3:-2].columns)\n",
    "\n",
    "print(\"Train Data:\")\n",
    "print(X_train_scaled)\n",
    "\n",
    "print(\"\\nTest Data:\")\n",
    "print(X_test_scaled)"
   ]
  },
  {
   "cell_type": "code",
   "execution_count": null,
   "id": "f1e03390-0dfc-411c-b0cd-5f5af9edd049",
   "metadata": {},
   "outputs": [],
   "source": [
    "temp=pd.DataFrame(X_train_scaled)\n",
    "temp_test=pd.DataFrame(X_test_scaled)"
   ]
  },
  {
   "cell_type": "code",
   "execution_count": null,
   "id": "1c99e023-03bf-4de8-bd3d-0972bf07310c",
   "metadata": {},
   "outputs": [],
   "source": [
    "temp = pd.concat([df.loc[:,['date', 'age', 'region', 'gender_F', 'gender_M']].reset_index(drop=True),temp], axis=1)"
   ]
  },
  {
   "cell_type": "code",
   "execution_count": null,
   "id": "2494e8f5-9c4b-49b0-91ce-25b75b0b50be",
   "metadata": {},
   "outputs": [],
   "source": [
    "temp_test =  pd.concat([Y.loc[:,['date', 'age', 'region', 'gender_F', 'gender_M']].reset_index(drop=True),temp_test], axis=1)"
   ]
  },
  {
   "cell_type": "code",
   "execution_count": null,
   "id": "f890581b-f966-443b-8599-e721ee8488ab",
   "metadata": {},
   "outputs": [],
   "source": [
    "df = temp.copy()"
   ]
  },
  {
   "cell_type": "code",
   "execution_count": null,
   "id": "2790884e-9e21-4ee4-9c66-145588349306",
   "metadata": {},
   "outputs": [],
   "source": [
    "X_test=temp_test.copy()"
   ]
  },
  {
   "cell_type": "markdown",
   "id": "70d2c71e-d726-438a-9289-8660b20dae63",
   "metadata": {},
   "source": [
    "## 상관행렬 계산"
   ]
  },
  {
   "cell_type": "code",
   "execution_count": null,
   "id": "936c7419-ff5e-4a0d-b512-31aaa957b2ed",
   "metadata": {},
   "outputs": [],
   "source": [
    "# 상관행렬 계산\n",
    "correlation_matrix = df.corr().abs()\n",
    "\n",
    "# 상관계수가 0.8 이상인 변수들을 선택\n",
    "high_corr_var = np.where(correlation_matrix > 0.9)\n",
    "\n",
    "# (i, j) 인덱스 튜플의 리스트 생성\n",
    "high_corr_var = [(correlation_matrix.columns[x], correlation_matrix.columns[y]) for x, y in zip(*high_corr_var) if x != y and x < y]\n",
    "\n",
    "# 상관계수가 높은 변수들을 제거\n",
    "for var_pair in high_corr_var:\n",
    "    df.drop(var_pair[1], axis=1, inplace=True)  # 두 번째 변수를 제거\n"
   ]
  },
  {
   "cell_type": "code",
   "execution_count": null,
   "id": "d80b88e0-6002-4386-97e8-6da0dd7d310b",
   "metadata": {},
   "outputs": [],
   "source": [
    "print(high_corr_var)"
   ]
  },
  {
   "cell_type": "markdown",
   "id": "e76b11e6",
   "metadata": {},
   "source": [
    "## 그룹사별 변수 추출"
   ]
  },
  {
   "cell_type": "code",
   "execution_count": null,
   "id": "80420f7f-28a7-4bfa-ab0c-6d82323c83fe",
   "metadata": {},
   "outputs": [],
   "source": [
    "bank = df.loc[:, ['date', 'gender_F','age', 'region'] + list(df.loc[:, 'ba01m':'be07r'].columns)]\n",
    "card = df.loc[:, ['date', 'gender_F',  'age', 'region'] + list(df.loc[:, 'ca01m':'ch07r'].columns)]\n",
    "stock = df.loc[:, ['date', 'gender_F', 'age', 'region'] + list(df.loc[:, 'sa01r':'sd07r'].columns)]\n",
    "life = df.loc[:, ['date', 'gender_F',  'age', 'region'] + list(df.loc[:, 'la01r':'lf07r'].columns)]"
   ]
  },
  {
   "cell_type": "markdown",
   "id": "459ba4c8-d021-409d-af6c-b4f05db48e5a",
   "metadata": {},
   "source": [
    "## 단계선택법"
   ]
  },
  {
   "cell_type": "code",
   "execution_count": null,
   "id": "4a9c1aa5-e1ca-4e50-9953-8440c36dad49",
   "metadata": {},
   "outputs": [],
   "source": [
    "def stepwise_feature_selection(X, y):\n",
    "    variables=X.columns.tolist()\n",
    "    steps = []\n",
    "    sv_per_step, adjusted_r_squared = [], [] ## 각 스텝별로 선택된 변수들, 수정된 결정계수\n",
    "    selected_variables = [] ## 선택된 변수들\n",
    "    \n",
    "    step = 0\n",
    "    while len(variables) > 0:\n",
    "        remainder = list(set(variables) - set(selected_variables))\n",
    "        pval = pd.Series(index=remainder) \n",
    "        for col in remainder: \n",
    "            X_train = X[selected_variables+[col]]\n",
    "            X_train = sm.add_constant(X_train)\n",
    "            model = sm.OLS(y,X_train).fit(disp=0)\n",
    "            pval[col] = model.pvalues[col]\n",
    "    \n",
    "        min_pval = pval.min()\n",
    "        if min_pval < 0.05: \n",
    "            selected_variables.append(pval.idxmin())\n",
    "            while len(selected_variables) > 0:\n",
    "                selected_X = X[selected_variables]\n",
    "                selected_X = sm.add_constant(selected_X)\n",
    "                selected_pval = sm.OLS(y,selected_X).fit(disp=0).pvalues.iloc[1:]\n",
    "                max_pval = selected_pval.max()\n",
    "                if max_pval >= 0.05:   ## 최대 p-value값이 기준값보다 크거나 같으면 제외\n",
    "                    remove_variable = selected_pval.idxmax()\n",
    "                    selected_variables.remove(remove_variable)\n",
    "                else:\n",
    "                    break\n",
    "            \n",
    "            step += 1\n",
    "            steps.append(step)\n",
    "            adj_r_squared = sm.OLS(y,sm.add_constant(X[selected_variables])).fit(disp=0).rsquared_adj\n",
    "            adjusted_r_squared.append(adj_r_squared)\n",
    "            sv_per_step.append(selected_variables.copy())\n",
    "        else:\n",
    "            break\n",
    "    return selected_variables"
   ]
  },
  {
   "cell_type": "markdown",
   "id": "4db18cf2",
   "metadata": {},
   "source": [
    "## LRC"
   ]
  },
  {
   "cell_type": "code",
   "execution_count": null,
   "id": "a14f1914-0cd1-4595-8ce1-2271f84a5ae5",
   "metadata": {},
   "outputs": [],
   "source": [
    "def LRC(model):   \n",
    "    coef = model.params\n",
    "    LRC_table = pd.DataFrame({'feature_name': coef.index, 'LRC': np.abs(coef.values)/np.sum(np.abs(coef.values))})\n",
    "    LRC_table['rank'] = LRC_table['LRC'].rank(method='average', ascending=True)\n",
    "    return LRC_table"
   ]
  },
  {
   "cell_type": "code",
   "execution_count": null,
   "id": "505edbac-98f1-44be-8c1d-907ab7ffa377",
   "metadata": {},
   "outputs": [],
   "source": [
    "feature_bank = [i for i in bank.columns if i not in ['date']]\n",
    "feature_card = [i for i in card.columns if i not in ['date']]\n",
    "feature_stock = [i for i in stock.columns if i not in ['date']]\n",
    "feature_life = [i for i in life.columns if i not in ['date']]\n",
    "\n",
    "def Weight(LRC_table):\n",
    "    for i in [('은행', feature_bank), ('카드', feature_card), ('투자', feature_stock),('라이프',feature_life)]:\n",
    "        print(f'{i[0]} variable:', LRC_table.query('feature_name in @i[1]')['feature_name'].values)\n",
    "        print(f'{i[0]}:', (LRC_table.query('feature_name in @i[1]')['rank'].sum()/sum(range(1,LRC_table.shape[0]+1))).round(3))"
   ]
  },
  {
   "cell_type": "code",
   "execution_count": null,
   "id": "1d7d6269-f7d7-4450-893f-4ba574ef7194",
   "metadata": {},
   "outputs": [],
   "source": [
    "# X는 독립변수, y는 종속변수입니다.\n",
    "X = df.iloc[:,1:]\n",
    "y = y_train"
   ]
  },
  {
   "cell_type": "markdown",
   "id": "20b5bf7c-4d6f-4e75-9ce5-63fbda84c163",
   "metadata": {
    "jp-MarkdownHeadingCollapsed": true
   },
   "source": [
    "## RandomForestRegressor"
   ]
  },
  {
   "cell_type": "code",
   "execution_count": null,
   "id": "5cf614ad-b1b3-496c-ad93-61ce612ed2c0",
   "metadata": {},
   "outputs": [],
   "source": [
    "from sklearn.model_selection import train_test_split\n",
    "from sklearn.ensemble import RandomForestRegressor\n",
    "\n",
    "# 데이터 분할\n",
    "X_train, X_test, y_train, y_test = train_test_split(X, y, test_size=0.2, random_state=42)\n",
    "\n",
    "# 모델 학습\n",
    "model = RandomForestRegressor(n_estimators=100, random_state=42)\n",
    "model.fit(X_train, y_train)\n",
    "\n",
    "# 피처 중요도 추출\n",
    "importances = model.feature_importances_\n",
    "\n",
    "# 피처 중요도를 데이터프레임으로 변환\n",
    "feature_importances = pd.DataFrame({'feature': X_train.columns, 'importance': importances})\n",
    "\n",
    "# 중요도에 따라 피처를 정렬\n",
    "feature_importances = feature_importances.sort_values(by='importance', ascending=False)\n"
   ]
  },
  {
   "cell_type": "code",
   "execution_count": null,
   "id": "832ec63a-4fe6-4658-8938-3abbc452ca87",
   "metadata": {},
   "outputs": [],
   "source": [
    "feature_importances"
   ]
  },
  {
   "cell_type": "code",
   "execution_count": null,
   "id": "9c82fe56-3367-4650-a1fc-7f2af7f534f8",
   "metadata": {},
   "outputs": [],
   "source": [
    "# 중요도가 특정 임계값보다 낮은 피처 제거\n",
    "selected_features = feature_importances[feature_importances['importance'] > 0.02]['feature']\n",
    "selected_features"
   ]
  },
  {
   "cell_type": "code",
   "execution_count": null,
   "id": "944ef236-e8ea-44d7-b8de-7c746dc1533d",
   "metadata": {},
   "outputs": [],
   "source": [
    "# 중요도가 특정 임계값보다 낮은 피처 제거\n",
    "X_selected = X[selected_features]"
   ]
  },
  {
   "cell_type": "code",
   "execution_count": null,
   "id": "109e9792-a4fe-43d0-ac23-48c71745f718",
   "metadata": {},
   "outputs": [],
   "source": [
    "X_selected\n",
    "#성별\n",
    "#지역\n",
    "#유동거래_체크카드비율 \n",
    "#유동거래_보험료금액 \n",
    "#대출_일반대출평잔\n",
    "#대출_신용대출평잔\n",
    "#수신_예금평잔"
   ]
  },
  {
   "cell_type": "code",
   "execution_count": null,
   "id": "8473a5c2-cec9-4fa9-bef3-6cdd1c80ca88",
   "metadata": {},
   "outputs": [],
   "source": [
    "model = RandomForestRegressor(n_estimators=100, random_state=42)\n",
    "model.fit(X_train, y_train)"
   ]
  },
  {
   "cell_type": "code",
   "execution_count": null,
   "id": "62710ef9-286c-4a1a-98d2-631c955e1463",
   "metadata": {},
   "outputs": [],
   "source": [
    "y_pred = model.predict(X_test)\n",
    "mse = mean_squared_error(y_test, y_pred)\n",
    "rmse = np.sqrt(mse)\n",
    "\n",
    "print(\"Root Mean Squared Error:\", rmse)"
   ]
  },
  {
   "cell_type": "code",
   "execution_count": null,
   "id": "f1ebe597-7daa-4ca1-8b43-cb572de05073",
   "metadata": {},
   "outputs": [],
   "source": []
  },
  {
   "cell_type": "markdown",
   "id": "e7391519-df0c-4a8c-b4cf-80e7db628075",
   "metadata": {},
   "source": [
    "## MultiLinearRegression"
   ]
  },
  {
   "cell_type": "code",
   "execution_count": null,
   "id": "d9bb2549-5b66-40aa-9264-9dd35f9f16b8",
   "metadata": {},
   "outputs": [],
   "source": [
    "df.date.unique()\n",
    "# 2208 데이터로 2210 예측\n",
    "# 2210데이터로 2212 예측\n",
    "# 2302데이터로 2304 예측"
   ]
  },
  {
   "cell_type": "code",
   "execution_count": null,
   "id": "2302f1b9-b4bc-4f95-8603-c1be00fa2680",
   "metadata": {},
   "outputs": [],
   "source": [
    "\n",
    "X = X.reset_index(drop=True)\n",
    "y = y.reset_index(drop=True)\n"
   ]
  },
  {
   "cell_type": "code",
   "execution_count": null,
   "id": "66dbd840-368d-4781-89f1-5925775ef82f",
   "metadata": {},
   "outputs": [],
   "source": [
    "# 선택된 변수를 사용하여 모델을 만듭니다.\n",
    "selected_variables = stepwise_feature_selection(X, y)\n",
    "formula = \"{} ~ {}\".format(y.name, ' + '.join(selected_variables))\n",
    "model_GT = sm.OLS.from_formula(formula, data=pd.concat([df,y], axis=1)).fit()\n",
    "model_GT.summary()"
   ]
  },
  {
   "cell_type": "code",
   "execution_count": null,
   "id": "04b5d48e-918a-4f5e-ac56-93fa985b2621",
   "metadata": {},
   "outputs": [],
   "source": [
    "# 모델 저장\n",
    "with open('MultiLinearRegression_1006.pkl', 'wb') as f:\n",
    "    pickle.dump(model_GT, f)\n"
   ]
  },
  {
   "cell_type": "code",
   "execution_count": null,
   "id": "bf318cc0-29e1-42a4-a355-571619039548",
   "metadata": {},
   "outputs": [],
   "source": [
    "# 분야별 가중치 산정\n",
    "# 분야별 가중치를 산출한다.\n",
    "Weight(LRC(model_GT))"
   ]
  },
  {
   "cell_type": "code",
   "execution_count": null,
   "id": "a6314c95-af2c-446e-9359-cfc08d47c4a1",
   "metadata": {
    "scrolled": true
   },
   "outputs": [],
   "source": [
    "model_GT.summary()"
   ]
  },
  {
   "cell_type": "code",
   "execution_count": null,
   "id": "14bcd62d-465a-40db-8591-49c6fb8f8a65",
   "metadata": {},
   "outputs": [],
   "source": [
    "from sklearn.metrics import mean_squared_error, r2_score\n",
    "# 테스트 데이터로 예측을 수행합니다.\n",
    "predictions = model_GT.predict(X_test)\n",
    "\n",
    "# 3. 예측된 값과 실제 값의 차이를 통해 모델의 성능을 평가합니다.\n",
    "\n",
    "# RMSE 계산\n",
    "rmse = np.sqrt(mean_squared_error(target, predictions))\n",
    "\n",
    "# R-squared 계산\n",
    "r2 = r2_score(target, predictions)\n",
    "\n",
    "print(f'RMSE: {rmse}')\n",
    "print(f'R-squared: {r2}')\n"
   ]
  },
  {
   "cell_type": "code",
   "execution_count": null,
   "id": "34a1075a-11c9-4b61-ae3a-c4d2b4eb90c3",
   "metadata": {},
   "outputs": [],
   "source": [
    "predictions.describe()"
   ]
  },
  {
   "cell_type": "code",
   "execution_count": null,
   "id": "8e4d9d5e-a568-406e-b7d3-6e7bed428aef",
   "metadata": {},
   "outputs": [],
   "source": [
    "y_train.describe()"
   ]
  },
  {
   "cell_type": "code",
   "execution_count": null,
   "id": "db40c5e2-ec29-4964-92d7-92067f5e7bb2",
   "metadata": {},
   "outputs": [],
   "source": [
    "# 모델 요약 출력\n",
    "print(model_GT.summary())"
   ]
  },
  {
   "cell_type": "markdown",
   "id": "fbcbaf07-a869-47bb-b1db-28da8ba68f66",
   "metadata": {},
   "source": [
    "## Tabnet"
   ]
  },
  {
   "cell_type": "code",
   "execution_count": null,
   "id": "3658eef9-76ef-43e7-9f59-5db22292a6ac",
   "metadata": {},
   "outputs": [],
   "source": [
    "def TabNet_modeling(X, y):\n",
    "    # Road model\n",
    "    reg = TabNetRegressor(optimizer_fn=torch.optim.Adam,\n",
    "                          optimizer_params=dict(lr=1e-2),\n",
    "                          scheduler_params={\"step_size\":50,\"gamma\":0.9},\n",
    "                          scheduler_fn=torch.optim.lr_scheduler.StepLR,\n",
    "                          mask_type='sparsemax', verbose=0, seed=2023)  # \"sparsemax\", entmax\n",
    "    \n",
    "    # Split data \n",
    "    X_train = X[X['date'] < 2306].drop('date', axis=1)\n",
    "    X_test = X[X['date'] == 2306].drop('date', axis=1)\n",
    "    y_train = y[X['date'] < 2306]\n",
    "    y_test = y[X['date'] == 2306]\n",
    "\n",
    "    # Further split training data into training and validation sets\n",
    "    X_train, X_val, y_train, y_val = train_test_split(X_train, y_train, test_size=0.1, random_state=42)\n",
    "\n",
    "    # Tunning\n",
    "    reg.fit(X_train=X_train.values, y_train=y_train.values,\n",
    "            eval_set=[(X_train.values, y_train.values), (X_val.values, y_val.values)],\n",
    "            eval_name=['train', 'valid'],\n",
    "            eval_metric=['rmse'],\n",
    "            max_epochs=1000 , patience=300,\n",
    "            batch_size=1024, virtual_batch_size=128,\n",
    "            num_workers=0,\n",
    "            drop_last=False)\n",
    "    \n",
    "    # Predict\n",
    "    preds = reg.predict(X_test.values)\n",
    "    test_mse = mean_squared_error(y_pred=preds, y_true=y_test)   \n",
    "    \n",
    "    # Selection\n",
    "    fimportance = pd.DataFrame({'feature': X_train.columns, 'importance':reg.feature_importances_})\n",
    "    unuse = fimportance.query('importance==0').feature.values.tolist()\n",
    "    if len(unuse) != 0:\n",
    "        X = X.drop(unuse, axis=1)\n",
    "        return X, reg.best_cost, test_mse, reg\n",
    "    else:\n",
    "        return None, 'Done!', 'Done!', None\n"
   ]
  },
  {
   "cell_type": "code",
   "execution_count": null,
   "id": "d9df5690-10f6-4fef-8f17-d832d0b3ffb9",
   "metadata": {},
   "outputs": [],
   "source": [
    "# X는 독립변수, y는 종속변수입니다.\n",
    "X = df.drop([i for i in df.columns if 'lb08m' in i], axis=1)\n",
    "y = df[[i for i in df.columns if 'lb08m' in i]]"
   ]
  },
  {
   "cell_type": "code",
   "execution_count": null,
   "id": "9ab2ddd3-3ff6-46aa-b3b0-82eb49012af4",
   "metadata": {},
   "outputs": [],
   "source": [
    "first_selected_feature, val_rmse, test_rmse, first_model = TabNet_modeling(X, y)\n",
    "print(f\"BEST VALID SCORE FOR DATA : {val_rmse}\")\n",
    "print(f\"FINAL TEST SCORE FOR DATA : {test_rmse}\")"
   ]
  },
  {
   "cell_type": "code",
   "execution_count": null,
   "id": "941eb820-64f0-43f0-826b-1924b5c0372f",
   "metadata": {},
   "outputs": [],
   "source": [
    "def plot_feature_importances(fimportance):\n",
    "    plt.figure(figsize=(10, 6))\n",
    "    sns.barplot(x='importance', y='feature', data=fimportance.sort_values(by='importance', ascending=False))\n",
    "    plt.title('Feature Importances')\n",
    "    plt.show()"
   ]
  },
  {
   "cell_type": "code",
   "execution_count": null,
   "id": "cebb43a2-f945-4767-bde2-8e582eebfcca",
   "metadata": {},
   "outputs": [],
   "source": [
    "# 피처 중요도 확인 (만약 모델이 학습이 완료되었다면)\n",
    "if reg is not None:\n",
    "    fimportance = pd.DataFrame({'feature': first_selected_feature.columns, 'importance': first_model.feature_importances_})\n",
    "    print(fimportance.sort_values(by='importance', ascending=False))  # 피처 중요도 출력\n",
    "    \n",
    "    # 피처 중요도 시각화\n",
    "    plot_feature_importances(fimportance)"
   ]
  },
  {
   "cell_type": "code",
   "execution_count": null,
   "id": "f655d7a9-fba2-4e40-bd9c-212fa47eeffc",
   "metadata": {},
   "outputs": [],
   "source": []
  }
 ],
 "metadata": {
  "kernelspec": {
   "display_name": "Python 3 (ipykernel)",
   "language": "python",
   "name": "python3"
  },
  "language_info": {
   "codemirror_mode": {
    "name": "ipython",
    "version": 3
   },
   "file_extension": ".py",
   "mimetype": "text/x-python",
   "name": "python",
   "nbconvert_exporter": "python",
   "pygments_lexer": "ipython3",
   "version": "3.10.13"
  }
 },
 "nbformat": 4,
 "nbformat_minor": 5
}
